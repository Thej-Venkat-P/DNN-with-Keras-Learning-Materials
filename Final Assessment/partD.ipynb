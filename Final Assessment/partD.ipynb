{
 "cells": [
  {
   "cell_type": "markdown",
   "metadata": {},
   "source": [
    "# Problem\n",
    "A. Build a baseline model (5 marks) \n",
    "\n",
    "Use the Keras library to build a neural network with the following:\n",
    "\n",
    "- One hidden layer of 10 nodes, and a ReLU activation function\n",
    "\n",
    "- Use the adam optimizer and the mean squared error  as the loss function.\n",
    "\n",
    "1. Randomly split the data into a training and test sets by holding 30% of the data for testing. You can use the \n",
    "train_test_split\n",
    "helper function from Scikit-learn.\n",
    "\n",
    "2. Train the model on the training data using 50 epochs.\n",
    "\n",
    "3. Evaluate the model on the test data and compute the mean squared error between the predicted concrete strength and the actual concrete strength. You can use the mean_squared_error function from Scikit-learn.\n",
    "\n",
    "4. Repeat steps 1 - 3, 50 times, i.e., create a list of 50 mean squared errors.\n",
    "\n",
    "5. Report the mean and the standard deviation of the mean squared errors."
   ]
  },
  {
   "cell_type": "code",
   "execution_count": 1,
   "metadata": {},
   "outputs": [
    {
     "name": "stdout",
     "output_type": "stream",
     "text": [
      "WARNING:tensorflow:From c:\\Users\\Thej Venkat\\AppData\\Local\\Programs\\Python\\Python311\\Lib\\site-packages\\keras\\src\\losses.py:2976: The name tf.losses.sparse_softmax_cross_entropy is deprecated. Please use tf.compat.v1.losses.sparse_softmax_cross_entropy instead.\n",
      "\n"
     ]
    }
   ],
   "source": [
    "# Importing libraries\n",
    "import numpy as np\n",
    "import pandas as pd\n",
    "from sklearn.model_selection import train_test_split\n",
    "import keras\n",
    "from keras.models import Sequential\n",
    "from keras.layers import Dense\n",
    "# Standardizing the data\n",
    "from sklearn.preprocessing import StandardScaler\n",
    "# mean squared error\n",
    "from sklearn.metrics import mean_squared_error"
   ]
  },
  {
   "cell_type": "code",
   "execution_count": 2,
   "metadata": {},
   "outputs": [],
   "source": [
    "# Importing the dataset\n",
    "dataset = pd.read_csv('concrete_data.csv')\n",
    "Y = dataset['Strength']\n",
    "X = dataset.drop('Strength', axis = 1)\n",
    "standard_scaler = StandardScaler()\n",
    "X = standard_scaler.fit_transform(X)\n",
    "# Splitting the dataset into the Training set and Test set\n",
    "x_train, x_test, y_train, y_test = train_test_split(X, Y, test_size = 0.3, random_state = 42)"
   ]
  },
  {
   "cell_type": "code",
   "execution_count": 3,
   "metadata": {},
   "outputs": [
    {
     "data": {
      "text/plain": [
       "((721, 8), (309, 8), (721,), (309,))"
      ]
     },
     "execution_count": 3,
     "metadata": {},
     "output_type": "execute_result"
    }
   ],
   "source": [
    "x_train.shape, x_test.shape, y_train.shape, y_test.shape"
   ]
  },
  {
   "cell_type": "code",
   "execution_count": 4,
   "metadata": {},
   "outputs": [],
   "source": [
    "# Building the model\n",
    "def build_model():\n",
    "    model = Sequential()\n",
    "    model.add(Dense(10, input_dim = 8, activation = 'relu'))\n",
    "    model.add(Dense(10, input_dim = 8, activation = 'relu'))\n",
    "    model.add(Dense(10, input_dim = 8, activation = 'relu'))\n",
    "    model.add(Dense(1))\n",
    "    model.compile(optimizer = 'adam', loss = 'mean_squared_error')\n",
    "    return model"
   ]
  },
  {
   "cell_type": "code",
   "execution_count": 5,
   "metadata": {},
   "outputs": [
    {
     "name": "stdout",
     "output_type": "stream",
     "text": [
      "Model:  0\n",
      "WARNING:tensorflow:From c:\\Users\\Thej Venkat\\AppData\\Local\\Programs\\Python\\Python311\\Lib\\site-packages\\keras\\src\\backend.py:873: The name tf.get_default_graph is deprecated. Please use tf.compat.v1.get_default_graph instead.\n",
      "\n",
      "WARNING:tensorflow:From c:\\Users\\Thej Venkat\\AppData\\Local\\Programs\\Python\\Python311\\Lib\\site-packages\\keras\\src\\optimizers\\__init__.py:309: The name tf.train.Optimizer is deprecated. Please use tf.compat.v1.train.Optimizer instead.\n",
      "\n",
      "WARNING:tensorflow:From c:\\Users\\Thej Venkat\\AppData\\Local\\Programs\\Python\\Python311\\Lib\\site-packages\\keras\\src\\utils\\tf_utils.py:492: The name tf.ragged.RaggedTensorValue is deprecated. Please use tf.compat.v1.ragged.RaggedTensorValue instead.\n",
      "\n",
      "10/10 [==============================] - 0s 2ms/step\n",
      "Model:  1\n",
      "10/10 [==============================] - 0s 4ms/step\n",
      "Model:  2\n",
      "10/10 [==============================] - 0s 3ms/step\n",
      "Model:  3\n",
      "10/10 [==============================] - 0s 4ms/step\n",
      "Model:  4\n",
      "10/10 [==============================] - 0s 3ms/step\n",
      "Model:  5\n",
      "10/10 [==============================] - 0s 3ms/step\n",
      "Model:  6\n",
      "10/10 [==============================] - 0s 3ms/step\n",
      "Model:  7\n",
      "10/10 [==============================] - 0s 4ms/step\n",
      "Model:  8\n",
      "10/10 [==============================] - 0s 2ms/step\n",
      "Model:  9\n",
      "10/10 [==============================] - 0s 2ms/step\n",
      "Model:  10\n",
      "10/10 [==============================] - 0s 1ms/step\n",
      "Model:  11\n",
      "10/10 [==============================] - 0s 3ms/step\n",
      "Model:  12\n",
      "10/10 [==============================] - 0s 4ms/step\n",
      "Model:  13\n",
      "10/10 [==============================] - 0s 3ms/step\n",
      "Model:  14\n",
      "10/10 [==============================] - 0s 3ms/step\n",
      "Model:  15\n",
      "10/10 [==============================] - 0s 2ms/step\n",
      "Model:  16\n",
      "10/10 [==============================] - 0s 4ms/step\n",
      "Model:  17\n",
      "10/10 [==============================] - 0s 4ms/step\n",
      "Model:  18\n",
      "10/10 [==============================] - 0s 1ms/step\n",
      "Model:  19\n",
      "10/10 [==============================] - 0s 2ms/step\n",
      "Model:  20\n",
      "10/10 [==============================] - 0s 2ms/step\n",
      "Model:  21\n",
      "10/10 [==============================] - 0s 3ms/step\n",
      "Model:  22\n",
      "10/10 [==============================] - 0s 2ms/step\n",
      "Model:  23\n",
      "10/10 [==============================] - 0s 4ms/step\n",
      "Model:  24\n",
      "10/10 [==============================] - 0s 4ms/step\n",
      "Model:  25\n",
      "10/10 [==============================] - 0s 2ms/step\n",
      "Model:  26\n",
      "10/10 [==============================] - 0s 3ms/step\n",
      "Model:  27\n",
      "10/10 [==============================] - 0s 2ms/step\n",
      "Model:  28\n",
      "10/10 [==============================] - 0s 4ms/step\n",
      "Model:  29\n",
      "10/10 [==============================] - 0s 2ms/step\n",
      "Model:  30\n",
      "10/10 [==============================] - 0s 3ms/step\n",
      "Model:  31\n",
      "10/10 [==============================] - 0s 2ms/step\n",
      "Model:  32\n",
      "10/10 [==============================] - 0s 1ms/step\n",
      "Model:  33\n",
      "10/10 [==============================] - 0s 2ms/step\n",
      "Model:  34\n",
      "10/10 [==============================] - 0s 1ms/step\n",
      "Model:  35\n",
      "10/10 [==============================] - 0s 4ms/step\n",
      "Model:  36\n",
      "10/10 [==============================] - 0s 2ms/step\n",
      "Model:  37\n",
      "10/10 [==============================] - 0s 3ms/step\n",
      "Model:  38\n",
      "10/10 [==============================] - 0s 4ms/step\n",
      "Model:  39\n",
      "10/10 [==============================] - 0s 3ms/step\n",
      "Model:  40\n",
      "10/10 [==============================] - 0s 3ms/step\n",
      "Model:  41\n",
      "10/10 [==============================] - 0s 6ms/step\n",
      "Model:  42\n",
      "10/10 [==============================] - 0s 3ms/step\n",
      "Model:  43\n",
      "10/10 [==============================] - 0s 3ms/step\n",
      "Model:  44\n",
      "10/10 [==============================] - 0s 3ms/step\n",
      "Model:  45\n",
      "10/10 [==============================] - 0s 3ms/step\n",
      "Model:  46\n",
      "10/10 [==============================] - 0s 2ms/step\n",
      "Model:  47\n",
      "10/10 [==============================] - 0s 2ms/step\n",
      "Model:  48\n",
      "10/10 [==============================] - 0s 4ms/step\n",
      "Model:  49\n",
      "10/10 [==============================] - 0s 3ms/step\n",
      "Mean: 125.41696570359491\n"
     ]
    }
   ],
   "source": [
    "mse = []\n",
    "for i in range(50):\n",
    "    print(\"Model: \", i)\n",
    "    model = build_model()\n",
    "    model.fit(x_train, y_train, epochs = 50, verbose = 0)\n",
    "    y_pred = model.predict(x_test)\n",
    "    mse.append(mean_squared_error(y_test, y_pred))\n",
    "print('Mean:', np.mean(mse))"
   ]
  },
  {
   "cell_type": "markdown",
   "metadata": {},
   "source": [
    "The Mean of Mean Squared Errors:  125.4169\n",
    "It performs much better for the same number of epochs just by adding an extra hidden layer."
   ]
  }
 ],
 "metadata": {
  "kernelspec": {
   "display_name": "Python 3",
   "language": "python",
   "name": "python3"
  },
  "language_info": {
   "codemirror_mode": {
    "name": "ipython",
    "version": 3
   },
   "file_extension": ".py",
   "mimetype": "text/x-python",
   "name": "python",
   "nbconvert_exporter": "python",
   "pygments_lexer": "ipython3",
   "version": "3.11.6"
  }
 },
 "nbformat": 4,
 "nbformat_minor": 2
}
